{
 "cells": [
  {
   "cell_type": "raw",
   "id": "ad976831",
   "metadata": {},
   "source": [
    "s = \"this is My First Python programming class and i am learNING python string and its function\"\n",
    "1 . Try to extract data from index one to index 300 with a jump of 3 \n",
    "2. Try to reverse a string without using reverse function \n",
    "3. Try to split a string after conversion of entire string in uppercase \n",
    "4. try to convert the whole string into lower case \n",
    "5 . Try to capitalize the whole string \n",
    "6 . Write a diference between isalnum() and isalpha()\n",
    "7. Try to give an example of expand tab\n",
    "8 . Give an example of strip , lstrip and rstrip \n",
    "9.  Replace a string charecter by another charector by taking your own example \n",
    "\"sudhanshu\"\n",
    "10 . Try  to give a defination of string center function with and exmple \n",
    "11 . Write your own definition of compiler and interpretor without copy paste form internet in your own language\n",
    "12 . Python is a interpreted of compiled language give a clear ans with your understanding \n",
    "13 . Try to write a usecase of python with your understanding .\n",
    "\n",
    "\n",
    "you have to send a jupyter notebook to shivan@ineuron.ai before next saturday class 21st of may . "
   ]
  },
  {
   "cell_type": "code",
   "execution_count": 1,
   "id": "a9fd585c",
   "metadata": {},
   "outputs": [],
   "source": [
    "s = \"this is My First Python programming class and i am learNING python string and its function\""
   ]
  },
  {
   "cell_type": "code",
   "execution_count": 2,
   "id": "21c23f49",
   "metadata": {},
   "outputs": [
    {
     "data": {
      "text/plain": [
       "'h   r tnrrmglsnimeNGyosi dtfco'"
      ]
     },
     "execution_count": 2,
     "metadata": {},
     "output_type": "execute_result"
    }
   ],
   "source": [
    "#1 . Try to extract data from index one to index 300 with a jump of 3\n",
    "s[1:300:3]"
   ]
  },
  {
   "cell_type": "code",
   "execution_count": 3,
   "id": "f384d2c0",
   "metadata": {},
   "outputs": [
    {
     "data": {
      "text/plain": [
       "'noitcnuf sti dna gnirts nohtyp GNINrael ma i dna ssalc gnimmargorp nohtyP tsriF yM si siht'"
      ]
     },
     "execution_count": 3,
     "metadata": {},
     "output_type": "execute_result"
    }
   ],
   "source": [
    "#2. Try to reverse a string without using reverse function\n",
    "s[::-1]"
   ]
  },
  {
   "cell_type": "code",
   "execution_count": 6,
   "id": "38eca241",
   "metadata": {},
   "outputs": [
    {
     "data": {
      "text/plain": [
       "['THIS',\n",
       " 'IS',\n",
       " 'MY',\n",
       " 'FIRST',\n",
       " 'PYTHON',\n",
       " 'PROGRAMMING',\n",
       " 'CLASS',\n",
       " 'AND',\n",
       " 'I',\n",
       " 'AM',\n",
       " 'LEARNING',\n",
       " 'PYTHON',\n",
       " 'STRING',\n",
       " 'AND',\n",
       " 'ITS',\n",
       " 'FUNCTION']"
      ]
     },
     "execution_count": 6,
     "metadata": {},
     "output_type": "execute_result"
    }
   ],
   "source": [
    "#3. Try to split a string after conversion of entire string in uppercase\n",
    "u=s.upper()\n",
    "u.split()"
   ]
  },
  {
   "cell_type": "code",
   "execution_count": 8,
   "id": "b5f2f737",
   "metadata": {},
   "outputs": [
    {
     "data": {
      "text/plain": [
       "'this is my first python programming class and i am learning python string and its function'"
      ]
     },
     "execution_count": 8,
     "metadata": {},
     "output_type": "execute_result"
    }
   ],
   "source": [
    "#4. try to convert the whole string into lower case\n",
    "s.lower()"
   ]
  },
  {
   "cell_type": "code",
   "execution_count": 9,
   "id": "5808e283",
   "metadata": {},
   "outputs": [
    {
     "data": {
      "text/plain": [
       "'This is my first python programming class and i am learning python string and its function'"
      ]
     },
     "execution_count": 9,
     "metadata": {},
     "output_type": "execute_result"
    }
   ],
   "source": [
    "#5 . Try to capitalize the whole string \n",
    "s.capitalize()"
   ]
  },
  {
   "cell_type": "raw",
   "id": "714b5dee",
   "metadata": {},
   "source": [
    "#6 . Write a diference between isalnum() and isalpha()\n",
    "\n",
    "\"\"\"A string is alpha-numeric if all characters in the string are alpha-numeric and\n",
    "there is at least one character in the string.\"\"\"\n",
    "\n",
    "\"\"\"A string is alphabetic if all characters in the string are alphabetic and there\n",
    "is at least one character in the string.\"\"\""
   ]
  },
  {
   "cell_type": "code",
   "execution_count": 29,
   "id": "f6dee882",
   "metadata": {},
   "outputs": [
    {
     "data": {
      "text/plain": [
       "'basu\\\\dev        hapa'"
      ]
     },
     "execution_count": 29,
     "metadata": {},
     "output_type": "execute_result"
    }
   ],
   "source": [
    "#7. Try to give an example of expand tab\n",
    "h='basu\\dev\\thapa'\n",
    "h.expandtabs()"
   ]
  },
  {
   "cell_type": "code",
   "execution_count": 17,
   "id": "0c1498fd",
   "metadata": {},
   "outputs": [
    {
     "data": {
      "text/plain": [
       "'basudevthapa'"
      ]
     },
     "execution_count": 17,
     "metadata": {},
     "output_type": "execute_result"
    }
   ],
   "source": [
    "#8 . Give an example of strip , lstrip and rstrip \n",
    "b='    basudevthapa  '\n",
    "b.strip()"
   ]
  },
  {
   "cell_type": "code",
   "execution_count": 18,
   "id": "f9a3135b",
   "metadata": {},
   "outputs": [
    {
     "data": {
      "text/plain": [
       "'    basudevthapa'"
      ]
     },
     "execution_count": 18,
     "metadata": {},
     "output_type": "execute_result"
    }
   ],
   "source": [
    "b.rstrip()"
   ]
  },
  {
   "cell_type": "code",
   "execution_count": 19,
   "id": "ce128c4f",
   "metadata": {},
   "outputs": [
    {
     "data": {
      "text/plain": [
       "'basudevthapa  '"
      ]
     },
     "execution_count": 19,
     "metadata": {},
     "output_type": "execute_result"
    }
   ],
   "source": [
    "b.lstrip()"
   ]
  },
  {
   "cell_type": "code",
   "execution_count": 20,
   "id": "d3671f0a",
   "metadata": {},
   "outputs": [
    {
     "data": {
      "text/plain": [
       "'basucxev'"
      ]
     },
     "execution_count": 20,
     "metadata": {},
     "output_type": "execute_result"
    }
   ],
   "source": [
    "#9.  Replace a string charecter by another charector by taking your own example\n",
    "c='basudev'\n",
    "c.replace('d','cx')\n"
   ]
  },
  {
   "cell_type": "code",
   "execution_count": 23,
   "id": "8463e18c",
   "metadata": {},
   "outputs": [
    {
     "data": {
      "text/plain": [
       "'######basudev#######'"
      ]
     },
     "execution_count": 23,
     "metadata": {},
     "output_type": "execute_result"
    }
   ],
   "source": [
    "#10 . Try  to give a defination of string center function with and exmple\n",
    "f='basudev'\n",
    "f.center(20,'#')"
   ]
  },
  {
   "cell_type": "code",
   "execution_count": null,
   "id": "54cc5727",
   "metadata": {},
   "outputs": [],
   "source": [
    "#11 . Write your own definition of compiler and interpretor without copy paste form internet in your own language\n",
    "#compiler scans the entire program first and translate it into machine code whereas interpreter scans the programe line by line and translate it into machine code."
   ]
  },
  {
   "cell_type": "code",
   "execution_count": null,
   "id": "4b375543",
   "metadata": {},
   "outputs": [],
   "source": [
    "#12 . Python is a interpreted of compiled language give a clear ans with your understanding \n",
    "#python is both compiled and interpreted language."
   ]
  },
  {
   "cell_type": "code",
   "execution_count": 25,
   "id": "66ae7f5a",
   "metadata": {},
   "outputs": [
    {
     "data": {
      "text/plain": [
       "'GOOGLE LLC IS AN AMERICAN MULTINATIONAL TECHNOLOGY COMPANY THAT FOCUSES ON ARTIFICIAL INTELLIGENCE,[10] SEARCH ENGINE, ONLINE ADVERTISING, CLOUD COMPUTING, COMPUTER SOFTWARE, QUANTUM COMPUTING, E-COMMERCE, AND CONSUMER ELECTRONICS. IT HAS BEEN REFERRED TO AS THE \"MOST POWERFUL COMPANY IN THE WORLD\" AND ONE OF THE WORLD\\'S MOST VALUABLE BRANDS DUE TO ITS MARKET DOMINANCE, DATA COLLECTION, AND TECHNOLOGICAL ADVANTAGES IN THE AREA OF ARTIFICIAL INTELLIGENCE.[11][12][13][14] IT IS CONSIDERED ONE OF THE BIG FIVE AMERICAN INFORMATION TECHNOLOGY COMPANIES, ALONGSIDE AMAZON, APPLE, META, AND MICROSOFT.'"
      ]
     },
     "execution_count": 25,
     "metadata": {},
     "output_type": "execute_result"
    }
   ],
   "source": [
    "#13 . Try to write a usecase of python with your understanding .\n",
    "google=\"\"\"Google LLC is an American multinational technology company that focuses on artificial intelligence,[10] search engine, online advertising, cloud computing, computer software, quantum computing, e-commerce, and consumer electronics. It has been referred to as the \"most powerful company in the world\" and one of the world's most valuable brands due to its market dominance, data collection, and technological advantages in the area of artificial intelligence.[11][12][13][14] It is considered one of the Big Five American information technology companies, alongside Amazon, Apple, Meta, and Microsoft.\"\"\"\n",
    "google.upper()"
   ]
  },
  {
   "cell_type": "code",
   "execution_count": null,
   "id": "7c8efae6",
   "metadata": {},
   "outputs": [],
   "source": []
  }
 ],
 "metadata": {
  "kernelspec": {
   "display_name": "Python 3 (ipykernel)",
   "language": "python",
   "name": "python3"
  },
  "language_info": {
   "codemirror_mode": {
    "name": "ipython",
    "version": 3
   },
   "file_extension": ".py",
   "mimetype": "text/x-python",
   "name": "python",
   "nbconvert_exporter": "python",
   "pygments_lexer": "ipython3",
   "version": "3.9.7"
  }
 },
 "nbformat": 4,
 "nbformat_minor": 5
}
